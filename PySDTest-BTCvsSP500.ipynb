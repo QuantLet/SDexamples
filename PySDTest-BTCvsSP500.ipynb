{
 "cells": [
  {
   "metadata": {},
   "cell_type": "markdown",
   "source": "# This notebook is an adaptation of the empirical example provided by Lee and Whang (2024) on SD tests for S&P 500 and Bitcoin",
   "id": "b65b0e46eb556762"
  },
  {
   "metadata": {
    "ExecuteTime": {
     "end_time": "2025-07-28T10:25:50.584309Z",
     "start_time": "2025-07-28T10:25:50.579189Z"
    }
   },
   "cell_type": "code",
   "outputs": [],
   "execution_count": 2,
   "source": [
    "\"\"\" import modules \"\"\"\n",
    "\n",
    "import pandas as pd\n",
    "import numpy as np\n",
    "import pysdtest\n",
    "import matplotlib.pyplot as plt\n",
    "\n",
    "data = pd.read_stata(\"bitcoin_sp500_daily_rr.dta\")\n",
    "sp500 = data[\"SP500_daily_rr\"].dropna().values\n",
    "btc = data[\"BTC_daily_rr\"].dropna().values\n",
    "\n"
   ],
   "id": "f95908aa"
  },
  {
   "cell_type": "code",
   "id": "3a86304d",
   "metadata": {
    "ExecuteTime": {
     "end_time": "2025-07-28T10:25:53.951639Z",
     "start_time": "2025-07-28T10:25:53.825382Z"
    }
   },
   "source": [
    "\"\"\" Plotting \"\"\"\n",
    "\n",
    "# Plotting D\n",
    "crypto_testing_ct_1 = pysdtest.test_sd(btc, sp500, ngrid = 100, s=  1, b1 = 1000, b2 = 900, resampling =  'subsampling')\n",
    "crypto_testing_ct_1.plot_CDF(save=True, title=\"CDFs of Bitcoin and S&P Index.png\",label1=\"Bitcoin\",label2=\"S&P 500\", xlabel = \"Daily Return\")"
   ],
   "outputs": [
    {
     "data": {
      "text/plain": [
       "<Figure size 640x480 with 1 Axes>"
      ],
      "image/png": "[encoded data removed]"
     },
     "metadata": {},
     "output_type": "display_data"
    }
   ],
   "execution_count": 3
  },
  {
   "metadata": {},
   "cell_type": "markdown",
   "source": "### Testing First Order SD, i.e. $ H0: BTC \\curlyeqsucc_1 S\\&P500 \\quad $",
   "id": "48445d906a5c72ed"
  },
  {
   "metadata": {
    "ExecuteTime": {
     "end_time": "2025-07-28T10:37:57.162554Z",
     "start_time": "2025-07-28T10:37:49.568540Z"
    }
   },
   "cell_type": "code",
   "source": [
    "# First order\n",
    "\n",
    "crypto_testing_1 = pysdtest.test_sd(btc, sp500, ngrid = 100, s=  1, b1 = 1000, b2 = 900, resampling =  'subsampling')\n",
    "crypto_testing_1.testing()\n",
    "\n"
   ],
   "id": "716e5d07",
   "outputs": [
    {
     "name": "stdout",
     "output_type": "stream",
     "text": [
      "\n",
      "#--- Testing for Stochastic Dominance  -----#\n",
      "\n",
      "* H0 : sample1 first order SD sample2\n",
      "\n",
      "#-------------------------------------------#\n",
      "\n",
      "*** Test Setting ***\n",
      "* Resampling method \t = subsampling\n",
      "* SD order       \t =      1\n",
      "* # of (sample1) \t =   2861 \n",
      "* # of (sample2)   \t =   1995\n",
      "* # of (subsample1) \t =   1000\n",
      "* # of (subsample2) \t =    900\n",
      "\n",
      "#-------------------------------------------#\n",
      "\n",
      "*** Test Result ***\n",
      "* Test statistic \t = 6.1859\n",
      "* Significance level \t =  0.05\n",
      "* Critical-value \t = 4.0054\n",
      "* P-value        \t = 0.0000\n",
      "* Time elapsed   \t =  7.59 Sec\n"
     ]
    }
   ],
   "execution_count": 6
  },
  {
   "metadata": {},
   "cell_type": "markdown",
   "source": "### Testing Second Order SD, i.e. $ H0: BTC \\curlyeqsucc_2 S\\&P500 \\quad $",
   "id": "b6b7fcd3bb4a9591"
  },
  {
   "metadata": {
    "ExecuteTime": {
     "end_time": "2025-07-28T10:38:10.611625Z",
     "start_time": "2025-07-28T10:38:03.041221Z"
    }
   },
   "cell_type": "code",
   "source": [
    "# Second order\n",
    "\n",
    "crypto_testing_2 = pysdtest.test_sd(btc, sp500, ngrid = 100, s= 2, b1 = 1000, b2 = 900, resampling = 'subsampling')\n",
    "crypto_testing_2.testing()"
   ],
   "id": "206745324377d73c",
   "outputs": [
    {
     "name": "stdout",
     "output_type": "stream",
     "text": [
      "\n",
      "#--- Testing for Stochastic Dominance  -----#\n",
      "\n",
      "* H0 : sample1 second order SD sample2\n",
      "\n",
      "#-------------------------------------------#\n",
      "\n",
      "*** Test Setting ***\n",
      "* Resampling method \t = subsampling\n",
      "* SD order       \t =      2\n",
      "* # of (sample1) \t =   2861 \n",
      "* # of (sample2)   \t =   1995\n",
      "* # of (subsample1) \t =   1000\n",
      "* # of (subsample2) \t =    900\n",
      "\n",
      "#-------------------------------------------#\n",
      "\n",
      "*** Test Result ***\n",
      "* Test statistic \t = 0.3177\n",
      "* Significance level \t =  0.05\n",
      "* Critical-value \t = 0.2147\n",
      "* P-value        \t = 0.0000\n",
      "* Time elapsed   \t =  7.57 Sec\n"
     ]
    }
   ],
   "execution_count": 7
  },
  {
   "metadata": {},
   "cell_type": "markdown",
   "source": "## Switching samples",
   "id": "23c742f4b911abcf"
  },
  {
   "metadata": {},
   "cell_type": "markdown",
   "source": "### Testing First Order SD, i.e. $ H0: S\\&P500 \\curlyeqsucc_1 BTC \\quad $",
   "id": "8bc80a165f20059d"
  },
  {
   "metadata": {
    "ExecuteTime": {
     "end_time": "2025-07-28T10:40:50.280929Z",
     "start_time": "2025-07-28T10:40:42.850464Z"
    }
   },
   "cell_type": "code",
   "source": [
    "# First order\n",
    "\n",
    "crypto_testing_sw_1 = pysdtest.test_sd(sp500, btc, ngrid = 100, s = 1, b1 = 900, b2 = 1000, resampling = 'subsampling')\n",
    "crypto_testing_sw_1.testing()\n",
    "\n"
   ],
   "id": "09980a4b",
   "outputs": [
    {
     "name": "stdout",
     "output_type": "stream",
     "text": [
      "\n",
      "#--- Testing for Stochastic Dominance  -----#\n",
      "\n",
      "* H0 : sample1 first order SD sample2\n",
      "\n",
      "#-------------------------------------------#\n",
      "\n",
      "*** Test Setting ***\n",
      "* Resampling method \t = subsampling\n",
      "* SD order       \t =      1\n",
      "* # of (sample1) \t =   1995 \n",
      "* # of (sample2)   \t =   2861\n",
      "* # of (subsample1) \t =    900\n",
      "* # of (subsample2) \t =   1000\n",
      "\n",
      "#-------------------------------------------#\n",
      "\n",
      "*** Test Result ***\n",
      "* Test statistic \t = 8.2384\n",
      "* Significance level \t =  0.05\n",
      "* Critical-value \t = 6.7111\n",
      "* P-value        \t = 0.0000\n",
      "* Time elapsed   \t =  7.41 Sec\n"
     ]
    }
   ],
   "execution_count": 8
  },
  {
   "metadata": {},
   "cell_type": "markdown",
   "source": "### Testing Second Order SD, i.e. $ H0: S\\&P500 \\curlyeqsucc_2 BTC \\quad $",
   "id": "e4bea4026157e7c9"
  },
  {
   "metadata": {
    "ExecuteTime": {
     "end_time": "2025-07-28T10:41:05.506829Z",
     "start_time": "2025-07-28T10:40:57.963229Z"
    }
   },
   "cell_type": "code",
   "source": [
    "# Second order\n",
    "\n",
    "crypto_testing_sw_2 = pysdtest.test_sd(sp500, btc, ngrid = 100, s= 2, b1 = 900, b2 = 1000, resampling = 'subsampling')\n",
    "crypto_testing_sw_2.testing()"
   ],
   "id": "337c2767adfcdd32",
   "outputs": [
    {
     "name": "stdout",
     "output_type": "stream",
     "text": [
      "\n",
      "#--- Testing for Stochastic Dominance  -----#\n",
      "\n",
      "* H0 : sample1 second order SD sample2\n",
      "\n",
      "#-------------------------------------------#\n",
      "\n",
      "*** Test Setting ***\n",
      "* Resampling method \t = subsampling\n",
      "* SD order       \t =      2\n",
      "* # of (sample1) \t =   1995 \n",
      "* # of (sample2)   \t =   2861\n",
      "* # of (subsample1) \t =    900\n",
      "* # of (subsample2) \t =   1000\n",
      "\n",
      "#-------------------------------------------#\n",
      "\n",
      "*** Test Result ***\n",
      "* Test statistic \t = 0.0541\n",
      "* Significance level \t =  0.05\n",
      "* Critical-value \t = 0.0783\n",
      "* P-value        \t = 0.3349\n",
      "* Time elapsed   \t =  7.54 Sec\n"
     ]
    }
   ],
   "execution_count": 9
  },
  {
   "metadata": {},
   "cell_type": "code",
   "outputs": [],
   "execution_count": null,
   "source": "",
   "id": "fd22c5f8b1f46483"
  }
 ],
 "metadata": {
  "kernelspec": {
   "display_name": "Python 3 (ipykernel)",
   "language": "python",
   "name": "python3"
  },
  "language_info": {
   "codemirror_mode": {
    "name": "ipython",
    "version": 3
   },
   "file_extension": ".py",
   "mimetype": "text/x-python",
   "name": "python",
   "nbconvert_exporter": "python",
   "pygments_lexer": "ipython3",
   "version": "3.11.8"
  }
 },
 "nbformat": 4,
 "nbformat_minor": 5
}
